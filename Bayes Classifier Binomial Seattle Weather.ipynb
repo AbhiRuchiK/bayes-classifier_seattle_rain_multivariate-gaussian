{
 "cells": [
  {
   "cell_type": "code",
   "execution_count": 1,
   "metadata": {},
   "outputs": [],
   "source": [
    "import numpy as np\n",
    "import pandas as pd\n",
    "from statistics import mode"
   ]
  },
  {
   "cell_type": "code",
   "execution_count": 2,
   "metadata": {},
   "outputs": [],
   "source": [
    "data = pd.read_csv('seattleWeather_1948-2017.csv')\n",
    "\n",
    "'''\n",
    "url  =  \"https://github.com/AbhiRuchiK/bayes-classifier_seattle_rain_multivariate-gaussian/blob/master/seattleWeather_1948-2017.csv\"  #linking the address of csv file\n",
    "s=requests.get(url).content\n",
    "AllData=pd.read_csv(io.StringIO(s.decode('utf-8')))\n",
    "'''"
   ]
  },
  {
   "cell_type": "code",
   "execution_count": 3,
   "metadata": {},
   "outputs": [],
   "source": [
    "TrainData = data[:(int(.70*(len(data))))]\n",
    "TrainRain = TrainData[TrainData['RAIN'] == 1.0]\n",
    "meanData = (TrainRain.TMAX + TrainRain.TMIN )/2\n",
    "\n",
    "TrainRainNot = TrainData[TrainData['RAIN'] == 0.0]\n",
    "meanDataF = (TrainRainNot.TMAX + TrainRainNot.TMIN )/2\n",
    "\n",
    "Testdata = data[ : int(.30*(len(data)))]\n",
    "TestMean = (Testdata.TMAX + Testdata.TMIN) / 2\n",
    "\n",
    "TestRain = list(data.RAIN.tail(int(.30*(len(data.RAIN)))))"
   ]
  },
  {
   "cell_type": "code",
   "execution_count": 4,
   "metadata": {},
   "outputs": [],
   "source": [
    "VarianceT = np.var(meanData)\n",
    "MeanT = np.mean(meanData)\n",
    "\n",
    "VarianceF = np.var(meanDataF)\n",
    "MeanF = np.mean(meanDataF)\n",
    "\n",
    "ModeT = mode(meanData)\n",
    "PofRain = len(TrainRain)/len(TrainData)\n",
    "PofNotRain = 1 - PofRain"
   ]
  },
  {
   "cell_type": "code",
   "execution_count": 5,
   "metadata": {},
   "outputs": [],
   "source": [
    "def pdf(x, Variance, Mean):\n",
    "    return ((1/np.sqrt(2 * Variance * np.pi)) * (np.exp(-(((x-Mean)**2) / (2 * Variance)))))"
   ]
  },
  {
   "cell_type": "code",
   "execution_count": 6,
   "metadata": {},
   "outputs": [],
   "source": [
    "def PdfRayleigh(x):\n",
    "    return ((x/(ModeT))*((np.e)**(-(x**2)/(2*(ModeT)))))"
   ]
  },
  {
   "cell_type": "code",
   "execution_count": 7,
   "metadata": {},
   "outputs": [],
   "source": [
    "#for reliegh\n",
    "bjr = []\n",
    "for i in TestMean:\n",
    "    TrueValue = PdfRayleigh(i)* PofRain\n",
    "    Theta = TrueValue / (TrueValue + (PdfRayleigh(i)* PofNotRain))\n",
    "    if Theta > 0.5:\n",
    "        bjr.append(1.0)\n",
    "    else:\n",
    "        bjr.append(0.0)"
   ]
  },
  {
   "cell_type": "code",
   "execution_count": 8,
   "metadata": {},
   "outputs": [],
   "source": [
    "Prob = []\n",
    "for i in TestMean:\n",
    "    TrueValue = pdf(i, VarianceT, MeanT)* PofRain\n",
    "    Theta = TrueValue / (TrueValue + (pdf(i, VarianceF, MeanF)* PofNotRain))\n",
    "    if Theta > 0.5:\n",
    "        Prob.append(1.0)\n",
    "    else:\n",
    "        Prob.append(0.0)\n",
    "        "
   ]
  },
  {
   "cell_type": "code",
   "execution_count": 10,
   "metadata": {},
   "outputs": [],
   "source": [
    "#for reyleigh\n",
    "countr = []\n",
    "for r in range(len(bjr)):\n",
    "    if bjr[r] == TestRain[r]:\n",
    "        countr.append(\"True\")    "
   ]
  },
  {
   "cell_type": "code",
   "execution_count": 11,
   "metadata": {},
   "outputs": [],
   "source": [
    "count = []\n",
    "for r in range(len(Prob)):\n",
    "    if Prob[r] == TestRain[r]:\n",
    "        count.append(\"True\")    \n",
    "    "
   ]
  },
  {
   "cell_type": "code",
   "execution_count": 12,
   "metadata": {},
   "outputs": [
    {
     "data": {
      "text/plain": [
       "56.41226353555121"
      ]
     },
     "execution_count": 12,
     "metadata": {},
     "output_type": "execute_result"
    }
   ],
   "source": [
    "#accuracy by reyleigh\n",
    "len(countr)/len(TestRain)*100"
   ]
  },
  {
   "cell_type": "code",
   "execution_count": 13,
   "metadata": {},
   "outputs": [
    {
     "data": {
      "text/plain": [
       "62.20482713633398"
      ]
     },
     "execution_count": 13,
     "metadata": {},
     "output_type": "execute_result"
    }
   ],
   "source": [
    "#accuracy by bayes\n",
    "len(count)/len(TestRain)*100\n"
   ]
  }
 ],
 "metadata": {
  "kernelspec": {
   "display_name": "Python 3",
   "language": "python",
   "name": "python3"
  },
  "language_info": {
   "codemirror_mode": {
    "name": "ipython",
    "version": 3
   },
   "file_extension": ".py",
   "mimetype": "text/x-python",
   "name": "python",
   "nbconvert_exporter": "python",
   "pygments_lexer": "ipython3",
   "version": "3.6.5"
  }
 },
 "nbformat": 4,
 "nbformat_minor": 2
}
